{
  "cells": [
    {
      "cell_type": "code",
      "execution_count": null,
      "metadata": {
        "colab": {
          "base_uri": "https://localhost:8080/"
        },
        "id": "dLqwgErQGfd-",
        "outputId": "76c29d61-679f-4966-9e9c-367e843f3e7a"
      },
      "outputs": [],
      "source": [
        "!pip install tensorflow==2.13"
      ]
    },
    {
      "cell_type": "code",
      "execution_count": null,
      "metadata": {
        "colab": {
          "base_uri": "https://localhost:8080/"
        },
        "id": "qJgsfB5nIxzV",
        "outputId": "792d3d00-c29c-4d30-dd7e-8cd2a60c3182"
      },
      "outputs": [],
      "source": [
        "import tensorflow\n",
        "import os\n",
        "print(tensorflow.__version__)"
      ]
    },
    {
      "cell_type": "code",
      "execution_count": null,
      "metadata": {
        "colab": {
          "base_uri": "https://localhost:8080/"
        },
        "id": "9knw_WwJWHl0",
        "outputId": "38231042-4097-459a-e6bc-cf6603edc862"
      },
      "outputs": [],
      "source": [
        "!pip install tflite-support"
      ]
    },
    {
      "cell_type": "code",
      "execution_count": null,
      "metadata": {
        "id": "v95WuZfVLILd"
      },
      "outputs": [],
      "source": [
        "from tflite_support import flatbuffers\n",
        "from tflite_support import metadata as _metadata\n",
        "from tflite_support import metadata_schema_py_generated as _metadata_fb\n",
        "\n",
        "# Model Info\n",
        "model_meta = _metadata_fb.ModelMetadataT()\n",
        "model_meta.name = \"SeaFest Freshness\"\n",
        "model_meta.description = (\"Identify Fish Freshness (Fresh or Not Fresh)\")\n",
        "model_meta.version = \"1.0.1\"\n",
        "model_meta.author = \"SeaFest | Hx3\"\n",
        "model_meta.license = (\"SeaFest\")\n",
        "\n",
        "# Input Info\n",
        "input_meta = _metadata_fb.TensorMetadataT()\n",
        "\n",
        "# Output Info\n",
        "output_meta = _metadata_fb.TensorMetadataT()\n",
        "output_meta.name = \"probability\"\n",
        "output_meta.description = \"Probabilities Fresh or Not Fresh\"\n",
        "output_meta.content = _metadata_fb.ContentT()\n",
        "output_meta.content.content_properties = _metadata_fb.FeaturePropertiesT()\n",
        "output_meta.content.contentPropertiesType = (\n",
        "    _metadata_fb.ContentProperties.FeatureProperties)\n",
        "\n",
        "output_stats = _metadata_fb.StatsT()\n",
        "output_stats.max = [1.0]\n",
        "output_stats.min = [0.0]\n",
        "output_meta.stats = output_stats\n",
        "label_file = _metadata_fb.AssociatedFileT()\n",
        "label_file.name = os.path.basename(\"FreshnessLabels.txt\")\n",
        "label_file.description = \"Labels for Objects that Model Recognized\"\n",
        "label_file.type = _metadata_fb.AssociatedFileType.TENSOR_AXIS_LABELS\n",
        "output_meta.associatedFiles = [label_file]\n",
        "\n",
        "# Subgraph Info\n",
        "subgraph = _metadata_fb.SubGraphMetadataT()\n",
        "subgraph.inputTensorMetadata = [input_meta]\n",
        "subgraph.outputTensorMetadata = [output_meta]\n",
        "model_meta.subgraphMetadata = [subgraph]\n",
        "\n",
        "b = flatbuffers.Builder(0)\n",
        "\n",
        "b.Finish(\n",
        "    model_meta.Pack(b),\n",
        "    _metadata.MetadataPopulator.METADATA_FILE_IDENTIFIER)\n",
        "metadata_buf = b.Output()\n",
        "model_file = \"FreshnessModel.tflite\"\n",
        "populator = _metadata.MetadataPopulator.with_model_file(model_file)\n",
        "populator.load_metadata_buffer(metadata_buf)\n",
        "populator.load_associated_files([\"FreshnessLabels.txt\"])\n",
        "populator.populate()"
      ]
    },
    {
      "cell_type": "code",
      "execution_count": null,
      "metadata": {},
      "outputs": [],
      "source": [
        "from google.colab import files\n",
        "\n",
        "# Replace 'path_to_your_file.json' with the actual path of your generated JSON file\n",
        "files.download('FreshnessModel.tflite')\n",
        "files.download('FreshnessModel.tflite')\n"
      ]
    },
    {
      "cell_type": "markdown",
      "metadata": {},
      "source": [
        "INSPECT POPULATED METADATA (OPTIONAL)"
      ]
    },
    {
      "cell_type": "code",
      "execution_count": null,
      "metadata": {
        "colab": {
          "base_uri": "https://localhost:8080/"
        },
        "id": "VnMRN6BLVd0t",
        "outputId": "0bd4708e-ec62-47d6-c530-edd925da3ab2"
      },
      "outputs": [],
      "source": [
        "tf.compat.v1.flags.DEFINE_string('f','/','')"
      ]
    },
    {
      "cell_type": "code",
      "execution_count": null,
      "metadata": {
        "colab": {
          "base_uri": "https://localhost:8080/"
        },
        "id": "7zwDVrZHVhD0",
        "outputId": "5ab2b220-ab93-4bbf-cc47-b34473272410"
      },
      "outputs": [],
      "source": [
        "import absl.flags\n",
        "import os\n",
        "import sys\n",
        "\n",
        "# Parse command-line flags\n",
        "absl.flags.FLAGS(sys.argv)  # Parse all command-line arguments\n",
        "\n",
        "# Define command-line flags only if not already defined\n",
        "if not hasattr(absl.flags.FLAGS, 'export_directory'):\n",
        "    absl.flags.DEFINE_string('export_directory', '/', 'Directory to export files')\n",
        "\n",
        "# Assuming `model_file` and `model_basename` are defined somewhere in your code\n",
        "displayer = _metadata.MetadataDisplayer.with_model_file(model_file)\n",
        "\n",
        "# Access export directory from FLAGS or use default if not provided\n",
        "export_directory = absl.flags.FLAGS.export_directory if hasattr(absl.flags.FLAGS, 'export_directory') else '/'\n",
        "\n",
        "model_basename = \"FreshnessWithMetadata\"\n",
        "export_json_file = os.path.join(export_directory, os.path.splitext(model_basename)[0] + \".json\")\n",
        "os.makedirs(os.path.dirname(export_json_file), exist_ok=True)\n",
        "\n",
        "json_file = displayer.get_metadata_json()\n",
        "\n",
        "# Optional: write out the metadata as a json file\n",
        "with open(export_json_file, \"w\") as f:\n",
        "    f.write(json_file)\n",
        "\n",
        "print(json_file)"
      ]
    },
    {
      "cell_type": "code",
      "execution_count": null,
      "metadata": {
        "colab": {
          "base_uri": "https://localhost:8080/"
        },
        "id": "YrrdT5uMX624",
        "outputId": "71c1c695-b352-4617-ec98-f135103541b6"
      },
      "outputs": [],
      "source": [
        "from tflite_support import metadata as _metadata\n",
        "\n",
        "# Load Model\n",
        "model_file_path = 'FreshnessModel.tflite' \n",
        "displayer = _metadata.MetadataDisplayer.with_model_file(model_file_path)\n",
        "\n",
        "# Display Metadata\n",
        "metadata_json = displayer.get_metadata_json()\n",
        "print(metadata_json)\n"
      ]
    },
    {
      "cell_type": "markdown",
      "metadata": {
        "id": "nszdHNK3Jjpm"
      },
      "source": []
    }
  ],
  "metadata": {
    "colab": {
      "provenance": []
    },
    "kernelspec": {
      "display_name": "Python 3",
      "name": "python3"
    },
    "language_info": {
      "name": "python"
    }
  },
  "nbformat": 4,
  "nbformat_minor": 0
}
